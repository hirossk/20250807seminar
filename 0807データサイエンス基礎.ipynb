{
 "cells": [
  {
   "cell_type": "markdown",
   "metadata": {
    "id": "eac51da1"
   },
   "source": [
    "# 高校生向けデータ分析入門\n",
    "## PandasとMatplotlibを使ったデータ可視化\n",
    "この教材は、高校生がデータ分析の基本を学ぶための50分授業×2コマを想定したものです。PythonのライブラリであるPandasとMatplotlibを使い、データの扱いやグラフ作成の基礎を学びます。"
   ]
  },
  {
   "cell_type": "markdown",
   "metadata": {
    "id": "install_cell"
   },
   "source": [
    "## 最初に実行してください：日本語表示ライブラリのインストール\n",
    "グラフの日本語が文字化けしないように、最初にこのコードセルを実行して、日本語表示に対応したライブラリをインストール・設定します。"
   ]
  },
  {
   "cell_type": "code",
   "execution_count": null,
   "metadata": {
    "colab": {
     "base_uri": "https://localhost:8080/"
    },
    "executionInfo": {
     "elapsed": 17680,
     "status": "ok",
     "timestamp": 1754167376529,
     "user": {
      "displayName": "佐々木博幸",
      "userId": "07121390445702360729"
     },
     "user_tz": -540
    },
    "id": "install_code_cell",
    "outputId": "cc6ea37b-41a9-472c-ae8d-35552e64edc3"
   },
   "outputs": [
    {
     "ename": "",
     "evalue": "",
     "output_type": "error",
     "traceback": [
      "\u001b[1;31m'20250807seminar (Python 3.12.10)' でセルを実行するには、 ipykernel パッケージが必要です。\n",
      "\u001b[1;31m'ipykernel' を Python 環境にインストールします。\n",
      "\u001b[1;31mコマンド: 'c:/Users/hry-sasaki/20250807seminar/Scripts/python.exe -m pip install ipykernel -U --force-reinstall'"
     ]
    }
   ],
   "source": [
    "# matplotlib-fontjaをインストールします（-q はインストールのログを非表示にするオプション）\n",
    "!pip install matplotlib-fontja pandas seaborn -q\n",
    "# ライブラリをインポートして日本語表示を有効にします\n",
    "import matplotlib_fontja"
   ]
  },
  {
   "cell_type": "markdown",
   "metadata": {
    "id": "82bf4a7c"
   },
   "source": [
    "## 授業の導入 (10分)\n",
    "### なぜデータ分析を学ぶのか？\n",
    "データ分析の重要性と、この授業で学ぶことについて説明します。"
   ]
  },
  {
   "cell_type": "markdown",
   "metadata": {
    "id": "PJURYdhpVmTo"
   },
   "source": [
    "### データ分析って、なぜ大切なの？\n",
    "現代社会では、スマートフォン、SNS、お店の売上など、身の回りのあらゆる場所で膨大なデータが生まれています。なぜ、これらのデータを分析することが重要なのでしょうか？\n",
    "\n",
    "例えば、コンビニでは、どの商品がいつ、どんな天気の日に売れるのかをデータで分析して、品揃えを工夫しています。\n",
    "YouTubeやTikTokでは、みんなの視聴履歴データを分析して、一人ひとりに合った「おすすめ動画」を表示しています。\n",
    "天気予報も、過去の気象データを分析することで、未来の天気を高い精度で予測しています。\n",
    "\n",
    "このように、データ分析は、単なる数字や文字の集まりから、社会をより良くしたり、面白いサービスを生み出したりするための『宝の地図』を見つけるようなものです。このスキルは、将来どんな分野に進んでも役立つ強力な武器になります。\n",
    "\n",
    "### この授業で学ぶこと\n",
    "この授業では、データ分析の第一歩として、以下の内容を学びます。\n",
    "\n",
    "1. **Pandasの基礎**: Pythonのデータ分析ライブラリであるPandasを使って、Excelのような表形式のデータをプログラムで自由に扱う方法を学びます。\n",
    "2. **データの可視化**: データをグラフにすることで、データの特徴や面白い発見をひと目で分かるように表現する方法を学びます。\n",
    "\n",
    "実際のデータ（のようなもの）を使いながら、手を動かして楽しく学んでいきましょう！\n",
    "\n",
    "### この授業のゴール\n",
    "この授業が終わるころには、以下のことができるようになっていることを目指します。\n",
    "\n",
    "・データ分析がなぜ重要なのかを、自分の言葉で説明できるようになる。\n",
    "\n",
    "・Pandasを使って、簡単なデータの読み込み、表示、集計ができるようになる。\n",
    "\n",
    "・Matplotlibなどのライブラリを使って、簡単なグラフ（棒グラフ、折れ線グラフなど）を作成し、データの特徴を表現できるようになる。\n",
    "\n",
    "・学んだことを使って、身近な問題（例えば、自分の勉強時間と成績の関係など）をデータで分析するイメージが持てるようになる。"
   ]
  },
  {
   "cell_type": "markdown",
   "metadata": {
    "id": "486329c1"
   },
   "source": [
    "## Pandasデータフレームの基礎 (25分)\n",
    "### 表形式のデータを自由に操ろう！\n",
    "データフレームの作成、データの読み込み、基本的な操作（表示、選択、条件抽出）を学びます。"
   ]
  },
  {
   "cell_type": "markdown",
   "metadata": {
    "id": "-jTVIAhFV2c4"
   },
   "source": [
    "### Pandas データフレーム（DataFrame）って何？\n",
    "データ分析を行う上で、とても便利な相棒になってくれるのが、Pythonのライブラリである **Pandas** です。Pandasを使うと、Excelのような表形式のデータを簡単に、そして高速に扱うことができます。\n",
    "\n",
    "一言でいうと、**DataFrameはExcelのシートのような表形式のデータ**のことです。行と列で構成されていて、それぞれの列には名前（カラム名）がついています。\n",
    "\n",
    "#### なぜDataFrameは便利なの？\n",
    "1. **見た目が分かりやすい**: Excelのように直感的にデータを把握できます。\n",
    "2. **自由自在なデータ操作**: 特定の行や列だけを取り出したり、条件に合うデータだけを絞り込んだり、並べ替えたり、計算したりと、データ分析に必要なほとんどの操作が簡単にできます。\n",
    "3. **処理が速い**: コンピュータが処理しやすいように工夫されているので、何万行もあるような大きなデータでもサクサク動きます。\n",
    "\n",
    "データ分析の多くは、まず分析したいデータをDataFrameに読み込むことから始まります。"
   ]
  },
  {
   "cell_type": "markdown",
   "metadata": {
    "id": "5edqjzYNhTBu"
   },
   "source": [
    "### DataFrameを自分で作ってみよう\n",
    "Pythonの辞書（dictionary）というデータ形式を使って、簡単なDataFrameを作ってみましょう。\n",
    "今回は、架空の部活動のデータを例にします。"
   ]
  },
  {
   "cell_type": "code",
   "execution_count": null,
   "metadata": {
    "colab": {
     "base_uri": "https://localhost:8080/",
     "height": 174
    },
    "executionInfo": {
     "elapsed": 587,
     "status": "ok",
     "timestamp": 1754167377126,
     "user": {
      "displayName": "佐々木博幸",
      "userId": "07121390445702360729"
     },
     "user_tz": -540
    },
    "id": "8715b54b",
    "outputId": "3a2699c5-0023-4d2c-a07a-8fe7aff44b17"
   },
   "outputs": [],
   "source": [
    "# Pandasライブラリを使うために、まずimport（読み込み）します。\n",
    "# pd というニックネーム（別名）をつけて使うのが一般的です。\n",
    "import pandas as pd\n",
    "\n",
    "# 辞書形式でデータを作成します\n",
    "data = {\n",
    "    '部活名': ['サッカー部', 'バスケ部', '吹奏楽部', '美術部'],\n",
    "    '部員数': [30, 25, 40, 15],\n",
    "    '活動日数（週）': [5, 4, 6, 3]\n",
    "}\n",
    "\n",
    "# 辞書を元にDataFrameを作成します\n",
    "df_club = pd.DataFrame(data)\n",
    "\n",
    "# 作成したDataFrameを表示します\n",
    "# このように、簡単に表形式のデータを作成できることが分かりますね。\n",
    "display(df_club)"
   ]
  },
  {
   "cell_type": "markdown",
   "metadata": {
    "id": "XMAjBoHpWMbh"
   },
   "source": [
    "### DataFrameの基本的な操作\n",
    "\n",
    "DataFrameを準備できたら、次はその中身を確認したり、必要なデータだけを取り出したりする基本的な操作を見ていきましょう。\n",
    "ここでは、先ほど作成した部活動データ `df_club` を使います。"
   ]
  },
  {
   "cell_type": "markdown",
   "metadata": {
    "id": "dDT5foB_hTBw"
   },
   "source": [
    "#### データの最初の数行を表示: `.head()`\n",
    "データが大きい場合、まずは最初の数行だけを表示して、どんなデータが入っているかを確認するのが定番です。\n",
    "括弧の中に数字を入れると、その行数だけ表示できます。（例: `.head(3)` で最初の3行を表示）"
   ]
  },
  {
   "cell_type": "code",
   "execution_count": null,
   "metadata": {
    "colab": {
     "base_uri": "https://localhost:8080/",
     "height": 174
    },
    "executionInfo": {
     "elapsed": 42,
     "status": "ok",
     "timestamp": 1754167377174,
     "user": {
      "displayName": "佐々木博幸",
      "userId": "07121390445702360729"
     },
     "user_tz": -540
    },
    "id": "e7ed6098",
    "outputId": "899615e2-0db4-441e-9e03-91fd1f0afcd7"
   },
   "outputs": [],
   "source": [
    "# データの最初の数行を表示します\n",
    "display(df_club.head())"
   ]
  },
  {
   "cell_type": "markdown",
   "metadata": {
    "id": "MV4iMjWxhTBx"
   },
   "source": [
    "#### 特定の列（カラム）だけを取り出す\n",
    "特定の列のデータだけを見たいときは、`DataFrame名['カラム名']` のように指定します。\n",
    "\n",
    "##### 例: '部員数' の列だけを取り出す"
   ]
  },
  {
   "cell_type": "code",
   "execution_count": null,
   "metadata": {
    "colab": {
     "base_uri": "https://localhost:8080/",
     "height": 209
    },
    "executionInfo": {
     "elapsed": 13,
     "status": "ok",
     "timestamp": 1754167377185,
     "user": {
      "displayName": "佐々木博幸",
      "userId": "07121390445702360729"
     },
     "user_tz": -540
    },
    "id": "bc5669b1",
    "outputId": "66732674-4b1e-4d51-9831-a12519a2b2cd"
   },
   "outputs": [],
   "source": [
    "# 特定の列 ('部員数') だけを選択して表示します\n",
    "display(df_club['部員数'])"
   ]
  },
  {
   "cell_type": "markdown",
   "metadata": {
    "id": "V9AvHf3phTBy"
   },
   "source": [
    "#### 条件に合う行（データ）だけを絞り込む\n",
    "特定の条件を満たすデータだけを取り出すことも簡単です。例えば、「部員数が30人以上の部活」だけを表示してみましょう。\n",
    "\n",
    "##### 例: 部員数が30人以上の部活を絞り込む"
   ]
  },
  {
   "cell_type": "code",
   "execution_count": null,
   "metadata": {
    "colab": {
     "base_uri": "https://localhost:8080/",
     "height": 112
    },
    "executionInfo": {
     "elapsed": 54,
     "status": "ok",
     "timestamp": 1754167377243,
     "user": {
      "displayName": "佐々木博幸",
      "userId": "07121390445702360729"
     },
     "user_tz": -540
    },
    "id": "1e7fe4c4",
    "outputId": "50cb322e-fdb2-4033-d706-ad430e0744dd"
   },
   "outputs": [],
   "source": [
    "# 条件 (部員数が30人以上) を指定して行を絞り込み、表示します\n",
    "display(df_club[df_club['部員数'] >= 30])\n",
    "\n",
    "# このように、DataFrame を使うと、たくさんのデータの中から必要な情報を効率よく見つけ出すことができます。"
   ]
  },
  {
   "cell_type": "markdown",
   "metadata": {
    "id": "2c9961fd"
   },
   "source": [
    "## データの可視化の基礎 (25分)\n",
    "### データを「見る」ことで、新しい発見を！\n",
    "MatplotlibやSeabornというライブラリを使って、基本的なグラフ（棒グラフ、折れ線グラフ、散布図）の作り方を学びます。"
   ]
  },
  {
   "cell_type": "markdown",
   "metadata": {
    "id": "Jy-g-Yg0W5Jw"
   },
   "source": [
    "### なぜデータをグラフにするの？\n",
    "データ分析において、データをただの数字の集まりとして眺めるだけでなく、**グラフにして『見る』こと（可視化）**は非常に重要です。\n",
    "\n",
    "1.  **ひと目で特徴がわかる**: 数字がズラッと並んでいるだけでは気づきにくいデータの特徴（例：どのクラスの平均点が一番高いか、成績が上がっているか下がっているか）が、グラフにすると直感的に理解できます。\n",
    "2.  **意外な発見があるかも**: データをグラフにしてみることで、「あれ、この２つのデータには何か関係がありそうだな」といった、新しい疑問や発見のきっかけになります。\n",
    "3.  **他の人に伝えやすい**: 分析した結果を他の人に説明するとき、言葉や数字だけでなくグラフを見せることで、説得力が格段にアップします。\n",
    "\n",
    "データ可視化は、データと対話し、その声を聞くための強力なツールです。"
   ]
  },
  {
   "cell_type": "markdown",
   "metadata": {
    "id": "pqy0cgc3hTBz"
   },
   "source": [
    "### 棒グラフを作ってみよう\n",
    "棒グラフは、項目ごとの量の大きさを比較するのに適しています。\n",
    "先ほどの部活動データ `df_club` を使って、各部活の部員数を棒グラフで表示してみましょう。"
   ]
  },
  {
   "cell_type": "code",
   "execution_count": null,
   "metadata": {
    "colab": {
     "base_uri": "https://localhost:8080/",
     "height": 491
    },
    "executionInfo": {
     "elapsed": 194,
     "status": "ok",
     "timestamp": 1754167377425,
     "user": {
      "displayName": "佐々木博幸",
      "userId": "07121390445702360729"
     },
     "user_tz": -540
    },
    "id": "6901fe15",
    "outputId": "1d46f0e7-0515-487b-99d8-d951ac6c2482"
   },
   "outputs": [],
   "source": [
    "# グラフ作成のライブラリ matplotlib.pyplot を plt というニックネームでimportします\n",
    "import matplotlib.pyplot as plt\n",
    "\n",
    "# グラフのサイズを指定します\n",
    "plt.figure(figsize=(8, 5))\n",
    "\n",
    "# 棒グラフを作成します (x軸に「部活名」、y軸に「部員数」を指定)\n",
    "plt.bar(df_club['部活名'], df_club['部員数'], color='skyblue')\n",
    "\n",
    "# グラフのタイトルやラベルを追加して分かりやすくします\n",
    "plt.title('部活動ごとの部員数', fontsize=16)\n",
    "plt.xlabel('部活名', fontsize=12)\n",
    "plt.ylabel('部員数（人）', fontsize=12)\n",
    "# y軸に点線の補助線（グリッド）を入れて見やすくします\n",
    "plt.grid(axis='y', linestyle='--', alpha=0.7)\n",
    "\n",
    "# グラフを表示します\n",
    "plt.show()\n",
    "\n",
    "# このように、数行のコードで簡単に棒グラフを作成し、タイトルやラベルを追加することができます。どの部活の部員数が一番多いか、一目瞭然ですね。"
   ]
  },
  {
   "cell_type": "markdown",
   "metadata": {
    "id": "Mr7cBI0uhTBz"
   },
   "source": [
    "### 折れ線グラフを作ってみよう\n",
    "折れ線グラフは、時間とともにデータがどのように変化したか（推移）を見るのに適しています。\n",
    "ここでは、ある生徒の1ヶ月の勉強時間の推移を例に、折れ線グラフを作成してみましょう。"
   ]
  },
  {
   "cell_type": "code",
   "execution_count": null,
   "metadata": {
    "colab": {
     "base_uri": "https://localhost:8080/",
     "height": 491
    },
    "executionInfo": {
     "elapsed": 268,
     "status": "ok",
     "timestamp": 1754167377698,
     "user": {
      "displayName": "佐々木博幸",
      "userId": "07121390445702360729"
     },
     "user_tz": -540
    },
    "id": "9513dc70",
    "outputId": "82ee855e-fde2-4698-9168-33ee76aea847"
   },
   "outputs": [],
   "source": [
    "# 折れ線グラフ用のデータを作成します\n",
    "weeks = ['1週目', '2週目', '3週目', '4週目']\n",
    "study_hours = [10, 15, 12, 18]\n",
    "\n",
    "# グラフのサイズを指定します\n",
    "plt.figure(figsize=(8, 5))\n",
    "\n",
    "# 折れ線グラフを作成します (x軸に週、y軸に勉強時間)\n",
    "# marker='o' でデータ点を丸で示します\n",
    "plt.plot(weeks, study_hours, marker='o', linestyle='-', color='green')\n",
    "\n",
    "# グラフのタイトルやラベルを追加します\n",
    "plt.title('1ヶ月の勉強時間の推移', fontsize=16)\n",
    "plt.xlabel('週', fontsize=12)\n",
    "plt.ylabel('勉強時間（時間）', fontsize=12)\n",
    "# グリッド線を追加して見やすくします\n",
    "plt.grid(True, linestyle='--', alpha=0.6)\n",
    "\n",
    "# グラフを表示します\n",
    "plt.show()\n",
    "\n",
    "# 折れ線グラフを使うことで、勉強時間が週ごとにどのように変化したかがよく分かります。テスト前に勉強時間が増えている様子などが読み取れますね。"
   ]
  },
  {
   "cell_type": "markdown",
   "metadata": {
    "id": "-BO_A-syhTB0"
   },
   "source": [
    "### 散布図を作ってみよう\n",
    "散布図は、2つの数値データ間の関係性（相関）を見るのに適しています。\n",
    "例えば、「勉強時間が長いほど、テストの点数は高くなるのか？」といった関係を見たいときに使います。"
   ]
  },
  {
   "cell_type": "code",
   "execution_count": null,
   "metadata": {
    "colab": {
     "base_uri": "https://localhost:8080/",
     "height": 491
    },
    "executionInfo": {
     "elapsed": 2427,
     "status": "ok",
     "timestamp": 1754167380128,
     "user": {
      "displayName": "佐々木博幸",
      "userId": "07121390445702360729"
     },
     "user_tz": -540
    },
    "id": "6e61b0f0",
    "outputId": "f7a4f6bc-74fa-425d-b6b2-303a5dca27ab"
   },
   "outputs": [],
   "source": [
    "# より綺麗なグラフを簡単に作るためのライブラリ seaborn を sns というニックネームでimportします\n",
    "import seaborn as sns\n",
    "\n",
    "# 散布図用のデータを作成します（10人分の勉強時間とテストの点数）\n",
    "scatter_data = {\n",
    "    '勉強時間（時間）': [5, 7, 4, 6, 8, 3, 7, 6, 9, 5],\n",
    "    'テスト点数':     [75, 88, 60, 80, 95, 55, 85, 78, 90, 72]\n",
    "}\n",
    "df_scatter = pd.DataFrame(scatter_data)\n",
    "\n",
    "# グラフのサイズを指定します\n",
    "plt.figure(figsize=(8, 5))\n",
    "\n",
    "# Seabornを使って散布図を作成します\n",
    "sns.scatterplot(data=df_scatter, x='勉強時間（時間）', y='テスト点数', s=100)\n",
    "\n",
    "# グラフのタイトルやラベルを追加します\n",
    "plt.title('勉強時間とテスト点数の関係', fontsize=16)\n",
    "plt.xlabel('勉強時間（時間）', fontsize=12)\n",
    "plt.ylabel('テスト点数', fontsize=12)\n",
    "plt.grid(True, linestyle='--', alpha=0.6)\n",
    "\n",
    "# グラフを表示します\n",
    "plt.show()\n",
    "\n",
    "# この散布図を見ると、点が全体的に右上がりに分布しているのが分かります。これは、勉強時間が長いほど、テストの点数も高くなる傾向がある（＝正の相関がある）ことを示唆しています。"
   ]
  },
  {
   "cell_type": "markdown",
   "metadata": {
    "id": "99e38413"
   },
   "source": [
    "## 実践的なデータ分析例 (20分)\n",
    "### データを組み合わせて、疑問を解決しよう！\n",
    "これまでに学んだPandasでのデータ操作と、グラフ作成を組み合わせて、身近な疑問をデータで解決する流れを体験してみましょう。"
   ]
  },
  {
   "cell_type": "markdown",
   "metadata": {
    "id": "2HK7Ju1LhTB4"
   },
   "source": [
    "### 分析テーマ\n",
    "今回は、「高校のあるクラスのテスト結果」という架空のデータを使います。このデータから、以下のような疑問について考えてみます。\n",
    "\n",
    "**【疑問1】** クラス（A組, B組）によって、テストの平均点に違いはあるか？\n",
    "**【疑問2】** 勉強時間が長い生徒ほど、テストの点数は高い傾向にあるか？\n",
    "\n",
    "それでは、このデータをPandas DataFrameとして扱い、分析と可視化を行ってみましょう。"
   ]
  },
  {
   "cell_type": "markdown",
   "metadata": {
    "id": "x18GRNQVhTB5"
   },
   "source": [
    "#### データの準備\n",
    "まず、分析に使う架空の生徒データを作成し、DataFrameとして読み込みます。"
   ]
  },
  {
   "cell_type": "code",
   "execution_count": null,
   "metadata": {
    "colab": {
     "base_uri": "https://localhost:8080/",
     "height": 206
    },
    "executionInfo": {
     "elapsed": 11,
     "status": "ok",
     "timestamp": 1754167380179,
     "user": {
      "displayName": "佐々木博幸",
      "userId": "07121390445702360729"
     },
     "user_tz": -540
    },
    "id": "9d7cb472",
    "outputId": "98588c29-13bb-4b35-edf4-1c3e13d1651c"
   },
   "outputs": [],
   "source": [
    "# 分析に使う架空の生徒データを作成します\n",
    "student_data = {\n",
    "    '生徒ID': list(range(1, 21)),\n",
    "    'クラス': ['A組'] * 10 + ['B組'] * 10,\n",
    "    '学習時間（週）': [5, 7, 4, 6, 8, 5, 7, 6, 9, 5, 6, 5, 7, 8, 6, 5, 7, 8, 6, 7],\n",
    "    'テスト点数': [75, 88, 60, 80, 95, 70, 85, 78, 90, 72, 80, 75, 88, 92, 78, 70, 85, 90, 77, 82]\n",
    "}\n",
    "\n",
    "# DataFrameを作成します\n",
    "df_students = pd.DataFrame(student_data)\n",
    "\n",
    "# データの最初の5行を表示して確認します\n",
    "display(df_students.head())"
   ]
  },
  {
   "cell_type": "markdown",
   "metadata": {
    "id": "3tYl1mxfhTB7"
   },
   "source": [
    "--- (分析1) ---\n",
    "#### 【疑問1】クラスごとの平均テスト点数を比較する\n",
    "Pandasの `groupby()` を使ってクラスごとにデータをまとめ、平均点を計算します。"
   ]
  },
  {
   "cell_type": "code",
   "execution_count": null,
   "metadata": {
    "colab": {
     "base_uri": "https://localhost:8080/",
     "height": 125
    },
    "executionInfo": {
     "elapsed": 42,
     "status": "ok",
     "timestamp": 1754167380265,
     "user": {
      "displayName": "佐々木博幸",
      "userId": "07121390445702360729"
     },
     "user_tz": -540
    },
    "id": "lQWfxWovhTB8",
    "outputId": "86b562dc-cec7-4a4d-a3f9-6eb6b14a7f9b"
   },
   "outputs": [],
   "source": [
    "# 'クラス'でグループ化し、'テスト点数'の平均を計算します\n",
    "average_score_by_class = df_students.groupby('クラス')['テスト点数'].mean().reset_index()\n",
    "\n",
    "# 計算結果を表示します\n",
    "display(average_score_by_class)"
   ]
  },
  {
   "cell_type": "markdown",
   "metadata": {
    "id": "0vMu9WrehTB8"
   },
   "source": [
    "この集計結果を棒グラフで可視化して、違いを分かりやすく見てみましょう。"
   ]
  },
  {
   "cell_type": "code",
   "execution_count": null,
   "metadata": {
    "colab": {
     "base_uri": "https://localhost:8080/",
     "height": 584
    },
    "executionInfo": {
     "elapsed": 327,
     "status": "ok",
     "timestamp": 1754167380598,
     "user": {
      "displayName": "佐々木博幸",
      "userId": "07121390445702360729"
     },
     "user_tz": -540
    },
    "id": "NWBj2SN5hTB9",
    "outputId": "cb210ec4-9ccc-4827-d56a-4219f9c292c8"
   },
   "outputs": [],
   "source": [
    "# 棒グラフを作成します\n",
    "plt.figure(figsize=(7, 5))\n",
    "sns.barplot(data=average_score_by_class, x='クラス', y='テスト点数', palette='viridis')\n",
    "plt.title('クラスごとの平均テスト点数', fontsize=16)\n",
    "plt.xlabel('クラス', fontsize=12)\n",
    "plt.ylabel('平均テスト点数', fontsize=12)\n",
    "plt.ylim(0, 100) # y軸の範囲を0点から100点に設定します\n",
    "plt.grid(axis='y', linestyle='--', alpha=0.7)\n",
    "plt.show()\n",
    "\n",
    "# **【疑問1の結論】**\n",
    "# 集計結果とグラフから、**B組の平均点（81.7点）の方が、A組（79.3点）よりもやや高い**ことが分かりました。"
   ]
  },
  {
   "cell_type": "markdown",
   "metadata": {
    "id": "vabitaeThTB9"
   },
   "source": [
    "--- (分析2) ---\n",
    "#### 【疑問2】学習時間とテスト点数の関係を調べる\n",
    "次に、学習時間とテスト点数の関係を散布図で見てみましょう。クラスごとに色分けして、クラスによる違いも確認します。"
   ]
  },
  {
   "cell_type": "code",
   "execution_count": null,
   "metadata": {
    "colab": {
     "base_uri": "https://localhost:8080/",
     "height": 568
    },
    "executionInfo": {
     "elapsed": 555,
     "status": "ok",
     "timestamp": 1754167381157,
     "user": {
      "displayName": "佐々木博幸",
      "userId": "07121390445702360729"
     },
     "user_tz": -540
    },
    "id": "Sm8fZJRNSNCi",
    "outputId": "5427c212-2ab3-45a4-d97e-3aa1fa78331a"
   },
   "outputs": [],
   "source": [
    "# 散布図を作成します。hue='クラス'でクラスごとに色分けします\n",
    "plt.figure(figsize=(8, 6))\n",
    "sns.scatterplot(data=df_students, x='学習時間（週）', y='テスト点数', hue='クラス', s=100, alpha=0.8)\n",
    "plt.title('学習時間とテスト点数の関係', fontsize=16)\n",
    "plt.xlabel('学習時間（時間）', fontsize=12)\n",
    "plt.ylabel('テスト点数', fontsize=12)\n",
    "plt.grid(True, linestyle='--', alpha=0.6)\n",
    "plt.legend(title='クラス') # 凡例を表示します\n",
    "plt.show()\n",
    "\n",
    "# **【疑問2の結論】**\n",
    "# 散布図を見ると、点が全体的に右上がりに分布しています。このことから、**学習時間が長い生徒ほど、テスト点数が高い傾向にある**という関係が見て取れます。\n",
    "# クラスによる大きな違いは、この図からはあまり見られないようです。"
   ]
  },
  {
   "cell_type": "markdown",
   "metadata": {
    "id": "5b52ed52"
   },
   "source": [
    "## まとめと質疑応答 (10分)\n",
    "### この授業で学んだことと、次の一歩"
   ]
  },
  {
   "cell_type": "markdown",
   "metadata": {
    "id": "hS4XM3sVhTB_"
   },
   "source": [
    "#### この授業で学んだことの振り返り\n",
    "1.  **Pandas**: DataFrameを使って、表形式のデータをプログラムで扱う基本を学びました。（データの作成、表示、列の選択、条件での絞り込み、グループごとの集計など）\n",
    "2.  **データの可視化**: MatplotlibやSeabornを使って、データの特徴を分かりやすく伝えるためのグラフ（棒グラフ、折れ線グラフ、散布図）の作り方を学びました。\n",
    "3.  **データ分析の流れ**: 「疑問を立てる → データを準備する → 集計・加工する → グラフで可視化する → 結論を考える」という、データ分析の基本的な流れを体験しました。\n",
    "\n",
    "これらのスキルは、探究活動のレポート作成や、社会問題の分析など、様々な場面で応用できます。\n",
    "\n",
    "#### 次の一歩 - さらに学ぶには？\n",
    "データ分析の世界はとても奥が深いです。もし興味を持ったら、ぜひ次のステップに進んでみてください。\n",
    "\n",
    "1.  **色々なグラフに挑戦**: 今日紹介した以外にも、データの分布を見る「ヒストグラム」や、複数の項目の比較に便利な「箱ひげ図」など、たくさんのグラフがあります。Seabornの公式サイトにはグラフの例がたくさん載っているので、ぜひ見てみてください。\n",
    "2.  **本物のデータを分析してみる**: 政府の統計サイト「e-Stat」や、データ分析コンペティションサイト「Kaggle (カグル)」などには、無料で使える本物のデータがたくさんあります。自分の興味があるテーマ（例：スポーツ、音楽、ゲームなど）のデータを見つけて、今日学んだスキルで分析してみると、もっと楽しく学べます。\n",
    "3.  **統計学の基礎を学ぶ**: 「平均」「相関」といった言葉が出てきましたが、こうした統計学の知識を少し学ぶと、データ分析の結果をより深く、正しく解釈できるようになります。\n",
    "\n",
    "---\n",
    "### 質疑応答\n",
    "本日の内容で、分からなかったことや、もっと知りたいことはありますか？"
   ]
  },
  {
   "cell_type": "markdown",
   "metadata": {
    "id": "6u24uCbQhTCA"
   },
   "source": [
    "---\n",
    "## 演習問題\n",
    "\n",
    "これまでに学んだ Pandas と Matplotlib/Seaborn の使い方を復習するために、架空のテスト結果データ `df_exam` を使っていくつかの演習問題に挑戦してみましょう。\n",
    "\n",
    "データセット `df_exam` は、20人の生徒のクラス、国語、数学、理科、社会、英語の点数を含んでいます。\n",
    "\n",
    "問題を解くことで、データの確認、特定のデータの抽出、集計、そして可視化のスキルを定着させましょう。"
   ]
  },
  {
   "cell_type": "code",
   "execution_count": null,
   "metadata": {
    "colab": {
     "base_uri": "https://localhost:8080/",
     "height": 224
    },
    "executionInfo": {
     "elapsed": 74,
     "status": "ok",
     "timestamp": 1754167381251,
     "user": {
      "displayName": "佐々木博幸",
      "userId": "07121390445702360729"
     },
     "user_tz": -540
    },
    "id": "M_8o8MughTCA",
    "outputId": "01dae6ba-079b-4ad6-da2c-52b7f2088821"
   },
   "outputs": [],
   "source": [
    "# 演習問題に使用する架空のデータセットを作成\n",
    "\n",
    "# データの定義（生徒の名前、クラス、科目別点数）\n",
    "exam_data = {\n",
    "    '生徒名': ['A', 'B', 'C', 'D', 'E', 'F', 'G', 'H', 'I', 'J',\n",
    "             'K', 'L', 'M', 'N', 'O', 'P', 'Q', 'R', 'S', 'T'],\n",
    "    'クラス': ['1組'] * 10 + ['2組'] * 10,\n",
    "    '国語': [70, 85, 65, 78, 92, 55, 70, 80, 88, 75,\n",
    "           60, 75, 88, 95, 70, 65, 80, 90, 72, 78],\n",
    "    '数学': [80, 75, 70, 85, 90, 60, 75, 88, 82, 70,\n",
    "           70, 80, 92, 85, 75, 68, 85, 95, 78, 82],\n",
    "    '理科': [65, 70, 75, 80, 88, 50, 65, 78, 85, 70,\n",
    "           60, 70, 85, 90, 75, 60, 75, 88, 68, 72],\n",
    "    '社会': [75, 80, 70, 85, 90, 65, 70, 82, 88, 78,\n",
    "           68, 75, 88, 92, 70, 62, 80, 90, 75, 80],\n",
    "    '英語': [85, 90, 78, 88, 95, 70, 85, 92, 90, 80,\n",
    "           75, 85, 90, 98, 80, 70, 88, 95, 82, 88]\n",
    "}\n",
    "\n",
    "# 辞書を基にDataFrameを作成\n",
    "df_exam = pd.DataFrame(exam_data)\n",
    "\n",
    "# 作成したDataFrameの最初の数行を表示\n",
    "print(\"演習用のデータセット（df_exam）\")\n",
    "display(df_exam.head())"
   ]
  },
  {
   "cell_type": "markdown",
   "metadata": {
    "id": "ZW7lera0hTCB"
   },
   "source": [
    "### 問題 1: データの確認\n",
    "\n",
    "まずは、データセット `df_exam` の中身を確認してみましょう。\n",
    "\n",
    "**目標:** DataFrameの最初の5行を表示して、データが正しく読み込まれているか、どのようなカラム（列）があるかを確認する。"
   ]
  },
  {
   "cell_type": "code",
   "execution_count": null,
   "metadata": {
    "colab": {
     "base_uri": "https://localhost:8080/",
     "height": 206
    },
    "executionInfo": {
     "elapsed": 88,
     "status": "ok",
     "timestamp": 1754167381374,
     "user": {
      "displayName": "佐々木博幸",
      "userId": "07121390445702360729"
     },
     "user_tz": -540
    },
    "id": "3lXJLEJZhTCD",
    "outputId": "0a4a6c56-1f5d-4dc7-c1a0-93b67249b1b5"
   },
   "outputs": [],
   "source": [
    "# 問題 1 の解答コードを記述してください\n",
    "display(df_exam.head())"
   ]
  },
  {
   "cell_type": "markdown",
   "metadata": {
    "id": "Gm7YC_b2hTCE"
   },
   "source": [
    "### 問題 2: 特定の列の選択\n",
    "\n",
    "「数学」の点数だけが知りたいとします。\n",
    "\n",
    "**目標:** データセット `df_exam` から、「数学」の列だけを選択して表示する。"
   ]
  },
  {
   "cell_type": "code",
   "execution_count": null,
   "metadata": {
    "colab": {
     "base_uri": "https://localhost:8080/",
     "height": 711
    },
    "executionInfo": {
     "elapsed": 66,
     "status": "ok",
     "timestamp": 1754167381446,
     "user": {
      "displayName": "佐々木博幸",
      "userId": "07121390445702360729"
     },
     "user_tz": -540
    },
    "id": "-aHyfx4phTCG",
    "outputId": "906c5b3a-ef38-4ff9-d2ce-4de89174bd82"
   },
   "outputs": [],
   "source": [
    "# 問題 2 の解答コードを記述してください\n",
    "display(df_exam['数学'])"
   ]
  },
  {
   "cell_type": "markdown",
   "metadata": {
    "id": "z3mr5z89hTCH"
   },
   "source": [
    "### 問題 3: 条件に合うデータの抽出\n",
    "\n",
    "「英語」の点数が90点以上の生徒のデータだけを抽出したいとします。\n",
    "\n",
    "**目標:** データセット `df_exam` から、「英語」の点数が90点以上の生徒のすべての列を表示する。"
   ]
  },
  {
   "cell_type": "code",
   "execution_count": null,
   "metadata": {
    "colab": {
     "base_uri": "https://localhost:8080/",
     "height": 269
    },
    "executionInfo": {
     "elapsed": 91,
     "status": "ok",
     "timestamp": 1754167381541,
     "user": {
      "displayName": "佐々木博幸",
      "userId": "07121390445702360729"
     },
     "user_tz": -540
    },
    "id": "mMyv2Qd_hTCI",
    "outputId": "4ea4e6ea-72a5-4a02-bfd1-5f51e577ff0d"
   },
   "outputs": [],
   "source": [
    "# 問題 3 の解答コードを記述してください\n",
    "display(df_exam[df_exam['英語'] >= 90])"
   ]
  },
  {
   "cell_type": "markdown",
   "metadata": {
    "id": "Cq4GCXSwhTCL"
   },
   "source": [
    "### 問題 4: クラスごとの平均点の計算\n",
    "\n",
    "クラス（1組、2組）ごとに「国語」の平均点がどう違うかを知りたいとします。\n",
    "\n",
    "**目標:** データセット `df_exam` を使って、クラスごとの「国語」の平均点を計算して表示する。"
   ]
  },
  {
   "cell_type": "code",
   "execution_count": null,
   "metadata": {
    "colab": {
     "base_uri": "https://localhost:8080/",
     "height": 178
    },
    "executionInfo": {
     "elapsed": 329,
     "status": "ok",
     "timestamp": 1754167381901,
     "user": {
      "displayName": "佐々木博幸",
      "userId": "07121390445702360729"
     },
     "user_tz": -540
    },
    "id": "gprIkUKHhTCN",
    "outputId": "c76d1dac-c7e5-471e-de9c-f04508c940d0"
   },
   "outputs": [],
   "source": [
    "# 問題 4 の解答コードを記述してください\n",
    "average_kokugo_by_class = df_exam.groupby('クラス')['国語'].mean()\n",
    "display(average_kokugo_by_class)"
   ]
  },
  {
   "cell_type": "markdown",
   "metadata": {
    "id": "KzZ-G94ThTCP"
   },
   "source": [
    "### 問題 5: 関係性の可視化（散布図）\n",
    "\n",
    "「数学」と「理科」の点数にはどのような関係があるでしょうか？\n",
    "\n",
    "**目標:** `df_exam` データフレームを使い、「数学」を x 軸、「理科」を y 軸とする散布図を作成して、2つの科目の点数の関係性を視覚的に確認する。"
   ]
  },
  {
   "cell_type": "code",
   "execution_count": null,
   "metadata": {
    "colab": {
     "base_uri": "https://localhost:8080/",
     "height": 568
    },
    "executionInfo": {
     "elapsed": 662,
     "status": "ok",
     "timestamp": 1754167382583,
     "user": {
      "displayName": "佐々木博幸",
      "userId": "07121390445702360729"
     },
     "user_tz": -540
    },
    "id": "hNkiM2xNhTCQ",
    "outputId": "fae0a0aa-1d25-4418-91ba-4eb9b3a80914"
   },
   "outputs": [],
   "source": [
    "# 問題 5 の解答コードを記述してください\n",
    "plt.figure(figsize=(8, 6))\n",
    "sns.scatterplot(data=df_exam, x='数学', y='理科')\n",
    "plt.title('数学と理科の点数の関係', fontsize=16)\n",
    "plt.xlabel('数学の点数', fontsize=12)\n",
    "plt.ylabel('理科の点数', fontsize=12)\n",
    "plt.grid(True, linestyle='--', alpha=0.6)\n",
    "plt.show()"
   ]
  },
  {
   "cell_type": "markdown",
   "metadata": {
    "id": "_C3bJDQGhTCS"
   },
   "source": [
    "### 問題 6: 比較の可視化（棒グラフ）\n",
    "\n",
    "クラスごとの「英語」の平均点の違いを、グラフで分かりやすく比較してみましょう。\n",
    "\n",
    "**目標:** まず、クラスごとの英語の平均点を計算し、その結果を使って棒グラフを作成する。"
   ]
  },
  {
   "cell_type": "code",
   "execution_count": null,
   "metadata": {
    "colab": {
     "base_uri": "https://localhost:8080/",
     "height": 584
    },
    "executionInfo": {
     "elapsed": 543,
     "status": "ok",
     "timestamp": 1754167383151,
     "user": {
      "displayName": "佐々木博幸",
      "userId": "07121390445702360729"
     },
     "user_tz": -540
    },
    "id": "ICfQ6DGwhTCU",
    "outputId": "4f9d39c4-47bc-4304-f1c5-1c7f07b64d5c"
   },
   "outputs": [],
   "source": [
    "# 問題 6 の解答コードを記述してください\n",
    "# 1. クラスごとの英語の平均点を計算\n",
    "average_english_by_class = df_exam.groupby('クラス')['英語'].mean().reset_index()\n",
    "\n",
    "# 2. 棒グラフを作成\n",
    "plt.figure(figsize=(7, 5))\n",
    "sns.barplot(data=average_english_by_class, x='クラス', y='英語', palette='viridis')\n",
    "plt.title('クラスごとの英語の平均点', fontsize=16)\n",
    "plt.xlabel('クラス', fontsize=12)\n",
    "plt.ylabel('平均点', fontsize=12)\n",
    "plt.ylim(0, 100)\n",
    "plt.grid(axis='y', linestyle='--', alpha=0.7)\n",
    "plt.show()"
   ]
  },
  {
   "cell_type": "markdown",
   "metadata": {
    "id": "P1ceVxoShTCV"
   },
   "source": [
    "### 演習問題のまとめ\n",
    "\n",
    "#### 分析結果のポイント\n",
    "* **データの確認**: `head()` を使うことで、データセットの構造（行と列）を素早く把握できました。\n",
    "* **データの抽出**: 特定の列（数学）や、条件（英語が90点以上）に合う行を簡単に見つけ出すことができました。\n",
    "* **集計**: `groupby()` を使うことで、クラスごとの平均点など、データを要約した新しい情報を作ることができました。\n",
    "* **可視化**: 散布図からは「数学の点数が高い生徒は理科の点数も高い傾向にある」という関係性が見え、棒グラフからは「2組の方が1組よりも英語の平均点がわずかに高い」という違いがひと目で分かりました。\n",
    "\n",
    "#### 考察と次のステップ\n",
    "今回の演習では、基本的なデータ操作と可視化を行いました。ここからさらに、「なぜ2組の方が英語の平均点が高いのか？」や「5教科の合計点が最も高い生徒は誰か？」といった新しい疑問を見つけ、分析を深めていくことができます。\n",
    "\n",
    "ぜひ、今日学んだことを使って、身の回りのデータで色々な分析に挑戦してみてください！"
   ]
  }
 ],
 "metadata": {
  "colab": {
   "provenance": []
  },
  "kernelspec": {
   "display_name": "20250807seminar",
   "language": "python",
   "name": "python3"
  },
  "language_info": {
   "codemirror_mode": {
    "name": "ipython",
    "version": 3
   },
   "file_extension": ".py",
   "mimetype": "text/x-python",
   "name": "python",
   "nbconvert_exporter": "python",
   "pygments_lexer": "ipython3",
   "version": "3.12.10"
  }
 },
 "nbformat": 4,
 "nbformat_minor": 0
}
